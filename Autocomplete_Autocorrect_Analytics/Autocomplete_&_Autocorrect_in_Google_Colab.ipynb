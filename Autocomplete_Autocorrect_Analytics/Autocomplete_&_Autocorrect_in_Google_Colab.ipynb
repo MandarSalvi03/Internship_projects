{
  "cells": [
    {
      "cell_type": "code",
      "source": [
        "import re\n",
        "import requests\n",
        "from collections import Counter\n",
        "import pandas as pd\n",
        "import plotly.express as px\n",
        "import plotly.graph_objects as go\n",
        "from IPython.display import display, HTML\n",
        "import json"
      ],
      "metadata": {
        "id": "LroP_ie_O6a7",
        "collapsed": true
      },
      "execution_count": null,
      "outputs": []
    },
    {
      "cell_type": "markdown",
      "source": [
        "### Dataset Collection"
      ],
      "metadata": {
        "id": "BrSG8z_CWgcA"
      }
    },
    {
      "cell_type": "code",
      "source": [
        "url = \"https://www.gutenberg.org/files/1661/1661-0.txt\"\n",
        "try:\n",
        "    response = requests.get(url)\n",
        "    response.raise_for_status()  # Raise an exception for bad status codes\n",
        "    text_data = response.text\n",
        "    print(\"Successfully downloaded 'The Adventures of Sherlock Holmes'.\")\n",
        "except requests.exceptions.RequestException as e:\n",
        "    print(f\"Error downloading dataset: {e}\")\n",
        "    text_data = \"\" # Ensure text_data is defined even if download fails"
      ],
      "metadata": {
        "colab": {
          "base_uri": "https://localhost:8080/"
        },
        "id": "QobxsUtGUufo",
        "outputId": "03c77b70-f080-4e84-ca61-52d03aee5d14"
      },
      "execution_count": null,
      "outputs": [
        {
          "output_type": "stream",
          "name": "stdout",
          "text": [
            "Successfully downloaded 'The Adventures of Sherlock Holmes'.\n"
          ]
        }
      ]
    },
    {
      "cell_type": "markdown",
      "source": [
        "### NLP Preprocessing"
      ],
      "metadata": {
        "id": "-EE1AOIUWKOa"
      }
    },
    {
      "cell_type": "code",
      "source": [
        "# We clean the text and build a word frequency dictionary.\n",
        "\n",
        "def preprocess(text):\n",
        "    \"\"\"\n",
        "    Cleans and tokenizes text.\n",
        "    - Converts to lowercase\n",
        "    - Finds all word sequences\n",
        "    - Returns a list of words\n",
        "    \"\"\"\n",
        "    text = text.lower()\n",
        "    words = re.findall(r'\\w+', text)\n",
        "    return words\n",
        "\n",
        "if text_data:\n",
        "    words = preprocess(text_data)\n",
        "    word_counts = Counter(words)\n",
        "    total_words = len(words)\n",
        "\n",
        "    # Our vocabulary is the set of unique words\n",
        "    vocab = set(words)\n",
        "\n",
        "    print(f\"Total words in corpus: {total_words}\")\n",
        "    print(f\"Unique words (vocabulary size): {len(word_counts)}\")\n",
        "else:\n",
        "    print(\"\\nSkipping further steps as dataset download failed.\")\n",
        "    # Exit if we can't get the data\n",
        "    exit()\n"
      ],
      "metadata": {
        "colab": {
          "base_uri": "https://localhost:8080/"
        },
        "id": "a7xP20ToUuvt",
        "outputId": "2d2f3341-83d7-4b81-9ede-d943f8e8b8a2"
      },
      "execution_count": null,
      "outputs": [
        {
          "output_type": "stream",
          "name": "stdout",
          "text": [
            "Total words in corpus: 109119\n",
            "Unique words (vocabulary size): 8183\n"
          ]
        }
      ]
    },
    {
      "cell_type": "markdown",
      "source": [
        "### Initial Visualization"
      ],
      "metadata": {
        "id": "CdZCAQQCWGv1"
      }
    },
    {
      "cell_type": "code",
      "source": [
        "# Visualize the frequency of the most common words.\n",
        "\n",
        "top_words = word_counts.most_common(20)\n",
        "df_top_words = pd.DataFrame(top_words, columns=['Word', 'Frequency'])\n",
        "\n",
        "fig = px.bar(df_top_words, x='Word', y='Frequency',\n",
        "             title='Top 20 Most Common Words',\n",
        "             color='Word')\n",
        "fig.show()"
      ],
      "metadata": {
        "colab": {
          "base_uri": "https://localhost:8080/",
          "height": 542
        },
        "collapsed": true,
        "id": "IWPPEjUXUu40",
        "outputId": "ad3a8ad4-ab19-4bd9-c107-ca5e8b4715eb"
      },
      "execution_count": null,
      "outputs": [
        {
          "output_type": "display_data",
          "data": {
            "text/html": [
              "<html>\n",
              "<head><meta charset=\"utf-8\" /></head>\n",
              "<body>\n",
              "    <div>            <script src=\"https://cdnjs.cloudflare.com/ajax/libs/mathjax/2.7.5/MathJax.js?config=TeX-AMS-MML_SVG\"></script><script type=\"text/javascript\">if (window.MathJax && window.MathJax.Hub && window.MathJax.Hub.Config) {window.MathJax.Hub.Config({SVG: {font: \"STIX-Web\"}});}</script>                <script type=\"text/javascript\">window.PlotlyConfig = {MathJaxConfig: 'local'};</script>\n",
              "        <script charset=\"utf-8\" src=\"https://cdn.plot.ly/plotly-2.35.2.min.js\"></script>                <div id=\"dfd6c31e-833d-4c43-b41c-0a1a44f131cd\" class=\"plotly-graph-div\" style=\"height:525px; width:100%;\"></div>            <script type=\"text/javascript\">                                    window.PLOTLYENV=window.PLOTLYENV || {};                                    if (document.getElementById(\"dfd6c31e-833d-4c43-b41c-0a1a44f131cd\")) {                    Plotly.newPlot(                        \"dfd6c31e-833d-4c43-b41c-0a1a44f131cd\",                        [{\"alignmentgroup\":\"True\",\"hovertemplate\":\"Word=%{x}\\u003cbr\\u003eFrequency=%{y}\\u003cextra\\u003e\\u003c\\u002fextra\\u003e\",\"legendgroup\":\"the\",\"marker\":{\"color\":\"#636efa\",\"pattern\":{\"shape\":\"\"}},\"name\":\"the\",\"offsetgroup\":\"the\",\"orientation\":\"v\",\"showlegend\":true,\"textposition\":\"auto\",\"x\":[\"the\"],\"xaxis\":\"x\",\"y\":[5815],\"yaxis\":\"y\",\"type\":\"bar\"},{\"alignmentgroup\":\"True\",\"hovertemplate\":\"Word=%{x}\\u003cbr\\u003eFrequency=%{y}\\u003cextra\\u003e\\u003c\\u002fextra\\u003e\",\"legendgroup\":\"and\",\"marker\":{\"color\":\"#EF553B\",\"pattern\":{\"shape\":\"\"}},\"name\":\"and\",\"offsetgroup\":\"and\",\"orientation\":\"v\",\"showlegend\":true,\"textposition\":\"auto\",\"x\":[\"and\"],\"xaxis\":\"x\",\"y\":[3085],\"yaxis\":\"y\",\"type\":\"bar\"},{\"alignmentgroup\":\"True\",\"hovertemplate\":\"Word=%{x}\\u003cbr\\u003eFrequency=%{y}\\u003cextra\\u003e\\u003c\\u002fextra\\u003e\",\"legendgroup\":\"i\",\"marker\":{\"color\":\"#00cc96\",\"pattern\":{\"shape\":\"\"}},\"name\":\"i\",\"offsetgroup\":\"i\",\"orientation\":\"v\",\"showlegend\":true,\"textposition\":\"auto\",\"x\":[\"i\"],\"xaxis\":\"x\",\"y\":[3038],\"yaxis\":\"y\",\"type\":\"bar\"},{\"alignmentgroup\":\"True\",\"hovertemplate\":\"Word=%{x}\\u003cbr\\u003eFrequency=%{y}\\u003cextra\\u003e\\u003c\\u002fextra\\u003e\",\"legendgroup\":\"to\",\"marker\":{\"color\":\"#ab63fa\",\"pattern\":{\"shape\":\"\"}},\"name\":\"to\",\"offsetgroup\":\"to\",\"orientation\":\"v\",\"showlegend\":true,\"textposition\":\"auto\",\"x\":[\"to\"],\"xaxis\":\"x\",\"y\":[2826],\"yaxis\":\"y\",\"type\":\"bar\"},{\"alignmentgroup\":\"True\",\"hovertemplate\":\"Word=%{x}\\u003cbr\\u003eFrequency=%{y}\\u003cextra\\u003e\\u003c\\u002fextra\\u003e\",\"legendgroup\":\"of\",\"marker\":{\"color\":\"#FFA15A\",\"pattern\":{\"shape\":\"\"}},\"name\":\"of\",\"offsetgroup\":\"of\",\"orientation\":\"v\",\"showlegend\":true,\"textposition\":\"auto\",\"x\":[\"of\"],\"xaxis\":\"x\",\"y\":[2781],\"yaxis\":\"y\",\"type\":\"bar\"},{\"alignmentgroup\":\"True\",\"hovertemplate\":\"Word=%{x}\\u003cbr\\u003eFrequency=%{y}\\u003cextra\\u003e\\u003c\\u002fextra\\u003e\",\"legendgroup\":\"a\",\"marker\":{\"color\":\"#19d3f3\",\"pattern\":{\"shape\":\"\"}},\"name\":\"a\",\"offsetgroup\":\"a\",\"orientation\":\"v\",\"showlegend\":true,\"textposition\":\"auto\",\"x\":[\"a\"],\"xaxis\":\"x\",\"y\":[2700],\"yaxis\":\"y\",\"type\":\"bar\"},{\"alignmentgroup\":\"True\",\"hovertemplate\":\"Word=%{x}\\u003cbr\\u003eFrequency=%{y}\\u003cextra\\u003e\\u003c\\u002fextra\\u003e\",\"legendgroup\":\"in\",\"marker\":{\"color\":\"#FF6692\",\"pattern\":{\"shape\":\"\"}},\"name\":\"in\",\"offsetgroup\":\"in\",\"orientation\":\"v\",\"showlegend\":true,\"textposition\":\"auto\",\"x\":[\"in\"],\"xaxis\":\"x\",\"y\":[1826],\"yaxis\":\"y\",\"type\":\"bar\"},{\"alignmentgroup\":\"True\",\"hovertemplate\":\"Word=%{x}\\u003cbr\\u003eFrequency=%{y}\\u003cextra\\u003e\\u003c\\u002fextra\\u003e\",\"legendgroup\":\"that\",\"marker\":{\"color\":\"#B6E880\",\"pattern\":{\"shape\":\"\"}},\"name\":\"that\",\"offsetgroup\":\"that\",\"orientation\":\"v\",\"showlegend\":true,\"textposition\":\"auto\",\"x\":[\"that\"],\"xaxis\":\"x\",\"y\":[1767],\"yaxis\":\"y\",\"type\":\"bar\"},{\"alignmentgroup\":\"True\",\"hovertemplate\":\"Word=%{x}\\u003cbr\\u003eFrequency=%{y}\\u003cextra\\u003e\\u003c\\u002fextra\\u003e\",\"legendgroup\":\"it\",\"marker\":{\"color\":\"#FF97FF\",\"pattern\":{\"shape\":\"\"}},\"name\":\"it\",\"offsetgroup\":\"it\",\"orientation\":\"v\",\"showlegend\":true,\"textposition\":\"auto\",\"x\":[\"it\"],\"xaxis\":\"x\",\"y\":[1749],\"yaxis\":\"y\",\"type\":\"bar\"},{\"alignmentgroup\":\"True\",\"hovertemplate\":\"Word=%{x}\\u003cbr\\u003eFrequency=%{y}\\u003cextra\\u003e\\u003c\\u002fextra\\u003e\",\"legendgroup\":\"you\",\"marker\":{\"color\":\"#FECB52\",\"pattern\":{\"shape\":\"\"}},\"name\":\"you\",\"offsetgroup\":\"you\",\"orientation\":\"v\",\"showlegend\":true,\"textposition\":\"auto\",\"x\":[\"you\"],\"xaxis\":\"x\",\"y\":[1577],\"yaxis\":\"y\",\"type\":\"bar\"},{\"alignmentgroup\":\"True\",\"hovertemplate\":\"Word=%{x}\\u003cbr\\u003eFrequency=%{y}\\u003cextra\\u003e\\u003c\\u002fextra\\u003e\",\"legendgroup\":\"he\",\"marker\":{\"color\":\"#636efa\",\"pattern\":{\"shape\":\"\"}},\"name\":\"he\",\"offsetgroup\":\"he\",\"orientation\":\"v\",\"showlegend\":true,\"textposition\":\"auto\",\"x\":[\"he\"],\"xaxis\":\"x\",\"y\":[1486],\"yaxis\":\"y\",\"type\":\"bar\"},{\"alignmentgroup\":\"True\",\"hovertemplate\":\"Word=%{x}\\u003cbr\\u003eFrequency=%{y}\\u003cextra\\u003e\\u003c\\u002fextra\\u003e\",\"legendgroup\":\"was\",\"marker\":{\"color\":\"#EF553B\",\"pattern\":{\"shape\":\"\"}},\"name\":\"was\",\"offsetgroup\":\"was\",\"orientation\":\"v\",\"showlegend\":true,\"textposition\":\"auto\",\"x\":[\"was\"],\"xaxis\":\"x\",\"y\":[1412],\"yaxis\":\"y\",\"type\":\"bar\"},{\"alignmentgroup\":\"True\",\"hovertemplate\":\"Word=%{x}\\u003cbr\\u003eFrequency=%{y}\\u003cextra\\u003e\\u003c\\u002fextra\\u003e\",\"legendgroup\":\"his\",\"marker\":{\"color\":\"#00cc96\",\"pattern\":{\"shape\":\"\"}},\"name\":\"his\",\"offsetgroup\":\"his\",\"orientation\":\"v\",\"showlegend\":true,\"textposition\":\"auto\",\"x\":[\"his\"],\"xaxis\":\"x\",\"y\":[1159],\"yaxis\":\"y\",\"type\":\"bar\"},{\"alignmentgroup\":\"True\",\"hovertemplate\":\"Word=%{x}\\u003cbr\\u003eFrequency=%{y}\\u003cextra\\u003e\\u003c\\u002fextra\\u003e\",\"legendgroup\":\"is\",\"marker\":{\"color\":\"#ab63fa\",\"pattern\":{\"shape\":\"\"}},\"name\":\"is\",\"offsetgroup\":\"is\",\"orientation\":\"v\",\"showlegend\":true,\"textposition\":\"auto\",\"x\":[\"is\"],\"xaxis\":\"x\",\"y\":[1147],\"yaxis\":\"y\",\"type\":\"bar\"},{\"alignmentgroup\":\"True\",\"hovertemplate\":\"Word=%{x}\\u003cbr\\u003eFrequency=%{y}\\u003cextra\\u003e\\u003c\\u002fextra\\u003e\",\"legendgroup\":\"my\",\"marker\":{\"color\":\"#FFA15A\",\"pattern\":{\"shape\":\"\"}},\"name\":\"my\",\"offsetgroup\":\"my\",\"orientation\":\"v\",\"showlegend\":true,\"textposition\":\"auto\",\"x\":[\"my\"],\"xaxis\":\"x\",\"y\":[1007],\"yaxis\":\"y\",\"type\":\"bar\"},{\"alignmentgroup\":\"True\",\"hovertemplate\":\"Word=%{x}\\u003cbr\\u003eFrequency=%{y}\\u003cextra\\u003e\\u003c\\u002fextra\\u003e\",\"legendgroup\":\"have\",\"marker\":{\"color\":\"#19d3f3\",\"pattern\":{\"shape\":\"\"}},\"name\":\"have\",\"offsetgroup\":\"have\",\"orientation\":\"v\",\"showlegend\":true,\"textposition\":\"auto\",\"x\":[\"have\"],\"xaxis\":\"x\",\"y\":[931],\"yaxis\":\"y\",\"type\":\"bar\"},{\"alignmentgroup\":\"True\",\"hovertemplate\":\"Word=%{x}\\u003cbr\\u003eFrequency=%{y}\\u003cextra\\u003e\\u003c\\u002fextra\\u003e\",\"legendgroup\":\"with\",\"marker\":{\"color\":\"#FF6692\",\"pattern\":{\"shape\":\"\"}},\"name\":\"with\",\"offsetgroup\":\"with\",\"orientation\":\"v\",\"showlegend\":true,\"textposition\":\"auto\",\"x\":[\"with\"],\"xaxis\":\"x\",\"y\":[877],\"yaxis\":\"y\",\"type\":\"bar\"},{\"alignmentgroup\":\"True\",\"hovertemplate\":\"Word=%{x}\\u003cbr\\u003eFrequency=%{y}\\u003cextra\\u003e\\u003c\\u002fextra\\u003e\",\"legendgroup\":\"as\",\"marker\":{\"color\":\"#B6E880\",\"pattern\":{\"shape\":\"\"}},\"name\":\"as\",\"offsetgroup\":\"as\",\"orientation\":\"v\",\"showlegend\":true,\"textposition\":\"auto\",\"x\":[\"as\"],\"xaxis\":\"x\",\"y\":[863],\"yaxis\":\"y\",\"type\":\"bar\"},{\"alignmentgroup\":\"True\",\"hovertemplate\":\"Word=%{x}\\u003cbr\\u003eFrequency=%{y}\\u003cextra\\u003e\\u003c\\u002fextra\\u003e\",\"legendgroup\":\"had\",\"marker\":{\"color\":\"#FF97FF\",\"pattern\":{\"shape\":\"\"}},\"name\":\"had\",\"offsetgroup\":\"had\",\"orientation\":\"v\",\"showlegend\":true,\"textposition\":\"auto\",\"x\":[\"had\"],\"xaxis\":\"x\",\"y\":[831],\"yaxis\":\"y\",\"type\":\"bar\"},{\"alignmentgroup\":\"True\",\"hovertemplate\":\"Word=%{x}\\u003cbr\\u003eFrequency=%{y}\\u003cextra\\u003e\\u003c\\u002fextra\\u003e\",\"legendgroup\":\"at\",\"marker\":{\"color\":\"#FECB52\",\"pattern\":{\"shape\":\"\"}},\"name\":\"at\",\"offsetgroup\":\"at\",\"orientation\":\"v\",\"showlegend\":true,\"textposition\":\"auto\",\"x\":[\"at\"],\"xaxis\":\"x\",\"y\":[782],\"yaxis\":\"y\",\"type\":\"bar\"}],                        {\"template\":{\"data\":{\"histogram2dcontour\":[{\"type\":\"histogram2dcontour\",\"colorbar\":{\"outlinewidth\":0,\"ticks\":\"\"},\"colorscale\":[[0.0,\"#0d0887\"],[0.1111111111111111,\"#46039f\"],[0.2222222222222222,\"#7201a8\"],[0.3333333333333333,\"#9c179e\"],[0.4444444444444444,\"#bd3786\"],[0.5555555555555556,\"#d8576b\"],[0.6666666666666666,\"#ed7953\"],[0.7777777777777778,\"#fb9f3a\"],[0.8888888888888888,\"#fdca26\"],[1.0,\"#f0f921\"]]}],\"choropleth\":[{\"type\":\"choropleth\",\"colorbar\":{\"outlinewidth\":0,\"ticks\":\"\"}}],\"histogram2d\":[{\"type\":\"histogram2d\",\"colorbar\":{\"outlinewidth\":0,\"ticks\":\"\"},\"colorscale\":[[0.0,\"#0d0887\"],[0.1111111111111111,\"#46039f\"],[0.2222222222222222,\"#7201a8\"],[0.3333333333333333,\"#9c179e\"],[0.4444444444444444,\"#bd3786\"],[0.5555555555555556,\"#d8576b\"],[0.6666666666666666,\"#ed7953\"],[0.7777777777777778,\"#fb9f3a\"],[0.8888888888888888,\"#fdca26\"],[1.0,\"#f0f921\"]]}],\"heatmap\":[{\"type\":\"heatmap\",\"colorbar\":{\"outlinewidth\":0,\"ticks\":\"\"},\"colorscale\":[[0.0,\"#0d0887\"],[0.1111111111111111,\"#46039f\"],[0.2222222222222222,\"#7201a8\"],[0.3333333333333333,\"#9c179e\"],[0.4444444444444444,\"#bd3786\"],[0.5555555555555556,\"#d8576b\"],[0.6666666666666666,\"#ed7953\"],[0.7777777777777778,\"#fb9f3a\"],[0.8888888888888888,\"#fdca26\"],[1.0,\"#f0f921\"]]}],\"heatmapgl\":[{\"type\":\"heatmapgl\",\"colorbar\":{\"outlinewidth\":0,\"ticks\":\"\"},\"colorscale\":[[0.0,\"#0d0887\"],[0.1111111111111111,\"#46039f\"],[0.2222222222222222,\"#7201a8\"],[0.3333333333333333,\"#9c179e\"],[0.4444444444444444,\"#bd3786\"],[0.5555555555555556,\"#d8576b\"],[0.6666666666666666,\"#ed7953\"],[0.7777777777777778,\"#fb9f3a\"],[0.8888888888888888,\"#fdca26\"],[1.0,\"#f0f921\"]]}],\"contourcarpet\":[{\"type\":\"contourcarpet\",\"colorbar\":{\"outlinewidth\":0,\"ticks\":\"\"}}],\"contour\":[{\"type\":\"contour\",\"colorbar\":{\"outlinewidth\":0,\"ticks\":\"\"},\"colorscale\":[[0.0,\"#0d0887\"],[0.1111111111111111,\"#46039f\"],[0.2222222222222222,\"#7201a8\"],[0.3333333333333333,\"#9c179e\"],[0.4444444444444444,\"#bd3786\"],[0.5555555555555556,\"#d8576b\"],[0.6666666666666666,\"#ed7953\"],[0.7777777777777778,\"#fb9f3a\"],[0.8888888888888888,\"#fdca26\"],[1.0,\"#f0f921\"]]}],\"surface\":[{\"type\":\"surface\",\"colorbar\":{\"outlinewidth\":0,\"ticks\":\"\"},\"colorscale\":[[0.0,\"#0d0887\"],[0.1111111111111111,\"#46039f\"],[0.2222222222222222,\"#7201a8\"],[0.3333333333333333,\"#9c179e\"],[0.4444444444444444,\"#bd3786\"],[0.5555555555555556,\"#d8576b\"],[0.6666666666666666,\"#ed7953\"],[0.7777777777777778,\"#fb9f3a\"],[0.8888888888888888,\"#fdca26\"],[1.0,\"#f0f921\"]]}],\"mesh3d\":[{\"type\":\"mesh3d\",\"colorbar\":{\"outlinewidth\":0,\"ticks\":\"\"}}],\"scatter\":[{\"fillpattern\":{\"fillmode\":\"overlay\",\"size\":10,\"solidity\":0.2},\"type\":\"scatter\"}],\"parcoords\":[{\"type\":\"parcoords\",\"line\":{\"colorbar\":{\"outlinewidth\":0,\"ticks\":\"\"}}}],\"scatterpolargl\":[{\"type\":\"scatterpolargl\",\"marker\":{\"colorbar\":{\"outlinewidth\":0,\"ticks\":\"\"}}}],\"bar\":[{\"error_x\":{\"color\":\"#2a3f5f\"},\"error_y\":{\"color\":\"#2a3f5f\"},\"marker\":{\"line\":{\"color\":\"#E5ECF6\",\"width\":0.5},\"pattern\":{\"fillmode\":\"overlay\",\"size\":10,\"solidity\":0.2}},\"type\":\"bar\"}],\"scattergeo\":[{\"type\":\"scattergeo\",\"marker\":{\"colorbar\":{\"outlinewidth\":0,\"ticks\":\"\"}}}],\"scatterpolar\":[{\"type\":\"scatterpolar\",\"marker\":{\"colorbar\":{\"outlinewidth\":0,\"ticks\":\"\"}}}],\"histogram\":[{\"marker\":{\"pattern\":{\"fillmode\":\"overlay\",\"size\":10,\"solidity\":0.2}},\"type\":\"histogram\"}],\"scattergl\":[{\"type\":\"scattergl\",\"marker\":{\"colorbar\":{\"outlinewidth\":0,\"ticks\":\"\"}}}],\"scatter3d\":[{\"type\":\"scatter3d\",\"line\":{\"colorbar\":{\"outlinewidth\":0,\"ticks\":\"\"}},\"marker\":{\"colorbar\":{\"outlinewidth\":0,\"ticks\":\"\"}}}],\"scattermapbox\":[{\"type\":\"scattermapbox\",\"marker\":{\"colorbar\":{\"outlinewidth\":0,\"ticks\":\"\"}}}],\"scatterternary\":[{\"type\":\"scatterternary\",\"marker\":{\"colorbar\":{\"outlinewidth\":0,\"ticks\":\"\"}}}],\"scattercarpet\":[{\"type\":\"scattercarpet\",\"marker\":{\"colorbar\":{\"outlinewidth\":0,\"ticks\":\"\"}}}],\"carpet\":[{\"aaxis\":{\"endlinecolor\":\"#2a3f5f\",\"gridcolor\":\"white\",\"linecolor\":\"white\",\"minorgridcolor\":\"white\",\"startlinecolor\":\"#2a3f5f\"},\"baxis\":{\"endlinecolor\":\"#2a3f5f\",\"gridcolor\":\"white\",\"linecolor\":\"white\",\"minorgridcolor\":\"white\",\"startlinecolor\":\"#2a3f5f\"},\"type\":\"carpet\"}],\"table\":[{\"cells\":{\"fill\":{\"color\":\"#EBF0F8\"},\"line\":{\"color\":\"white\"}},\"header\":{\"fill\":{\"color\":\"#C8D4E3\"},\"line\":{\"color\":\"white\"}},\"type\":\"table\"}],\"barpolar\":[{\"marker\":{\"line\":{\"color\":\"#E5ECF6\",\"width\":0.5},\"pattern\":{\"fillmode\":\"overlay\",\"size\":10,\"solidity\":0.2}},\"type\":\"barpolar\"}],\"pie\":[{\"automargin\":true,\"type\":\"pie\"}]},\"layout\":{\"autotypenumbers\":\"strict\",\"colorway\":[\"#636efa\",\"#EF553B\",\"#00cc96\",\"#ab63fa\",\"#FFA15A\",\"#19d3f3\",\"#FF6692\",\"#B6E880\",\"#FF97FF\",\"#FECB52\"],\"font\":{\"color\":\"#2a3f5f\"},\"hovermode\":\"closest\",\"hoverlabel\":{\"align\":\"left\"},\"paper_bgcolor\":\"white\",\"plot_bgcolor\":\"#E5ECF6\",\"polar\":{\"bgcolor\":\"#E5ECF6\",\"angularaxis\":{\"gridcolor\":\"white\",\"linecolor\":\"white\",\"ticks\":\"\"},\"radialaxis\":{\"gridcolor\":\"white\",\"linecolor\":\"white\",\"ticks\":\"\"}},\"ternary\":{\"bgcolor\":\"#E5ECF6\",\"aaxis\":{\"gridcolor\":\"white\",\"linecolor\":\"white\",\"ticks\":\"\"},\"baxis\":{\"gridcolor\":\"white\",\"linecolor\":\"white\",\"ticks\":\"\"},\"caxis\":{\"gridcolor\":\"white\",\"linecolor\":\"white\",\"ticks\":\"\"}},\"coloraxis\":{\"colorbar\":{\"outlinewidth\":0,\"ticks\":\"\"}},\"colorscale\":{\"sequential\":[[0.0,\"#0d0887\"],[0.1111111111111111,\"#46039f\"],[0.2222222222222222,\"#7201a8\"],[0.3333333333333333,\"#9c179e\"],[0.4444444444444444,\"#bd3786\"],[0.5555555555555556,\"#d8576b\"],[0.6666666666666666,\"#ed7953\"],[0.7777777777777778,\"#fb9f3a\"],[0.8888888888888888,\"#fdca26\"],[1.0,\"#f0f921\"]],\"sequentialminus\":[[0.0,\"#0d0887\"],[0.1111111111111111,\"#46039f\"],[0.2222222222222222,\"#7201a8\"],[0.3333333333333333,\"#9c179e\"],[0.4444444444444444,\"#bd3786\"],[0.5555555555555556,\"#d8576b\"],[0.6666666666666666,\"#ed7953\"],[0.7777777777777778,\"#fb9f3a\"],[0.8888888888888888,\"#fdca26\"],[1.0,\"#f0f921\"]],\"diverging\":[[0,\"#8e0152\"],[0.1,\"#c51b7d\"],[0.2,\"#de77ae\"],[0.3,\"#f1b6da\"],[0.4,\"#fde0ef\"],[0.5,\"#f7f7f7\"],[0.6,\"#e6f5d0\"],[0.7,\"#b8e186\"],[0.8,\"#7fbc41\"],[0.9,\"#4d9221\"],[1,\"#276419\"]]},\"xaxis\":{\"gridcolor\":\"white\",\"linecolor\":\"white\",\"ticks\":\"\",\"title\":{\"standoff\":15},\"zerolinecolor\":\"white\",\"automargin\":true,\"zerolinewidth\":2},\"yaxis\":{\"gridcolor\":\"white\",\"linecolor\":\"white\",\"ticks\":\"\",\"title\":{\"standoff\":15},\"zerolinecolor\":\"white\",\"automargin\":true,\"zerolinewidth\":2},\"scene\":{\"xaxis\":{\"backgroundcolor\":\"#E5ECF6\",\"gridcolor\":\"white\",\"linecolor\":\"white\",\"showbackground\":true,\"ticks\":\"\",\"zerolinecolor\":\"white\",\"gridwidth\":2},\"yaxis\":{\"backgroundcolor\":\"#E5ECF6\",\"gridcolor\":\"white\",\"linecolor\":\"white\",\"showbackground\":true,\"ticks\":\"\",\"zerolinecolor\":\"white\",\"gridwidth\":2},\"zaxis\":{\"backgroundcolor\":\"#E5ECF6\",\"gridcolor\":\"white\",\"linecolor\":\"white\",\"showbackground\":true,\"ticks\":\"\",\"zerolinecolor\":\"white\",\"gridwidth\":2}},\"shapedefaults\":{\"line\":{\"color\":\"#2a3f5f\"}},\"annotationdefaults\":{\"arrowcolor\":\"#2a3f5f\",\"arrowhead\":0,\"arrowwidth\":1},\"geo\":{\"bgcolor\":\"white\",\"landcolor\":\"#E5ECF6\",\"subunitcolor\":\"white\",\"showland\":true,\"showlakes\":true,\"lakecolor\":\"white\"},\"title\":{\"x\":0.05},\"mapbox\":{\"style\":\"light\"}}},\"xaxis\":{\"anchor\":\"y\",\"domain\":[0.0,1.0],\"title\":{\"text\":\"Word\"},\"categoryorder\":\"array\",\"categoryarray\":[\"the\",\"and\",\"i\",\"to\",\"of\",\"a\",\"in\",\"that\",\"it\",\"you\",\"he\",\"was\",\"his\",\"is\",\"my\",\"have\",\"with\",\"as\",\"had\",\"at\"]},\"yaxis\":{\"anchor\":\"x\",\"domain\":[0.0,1.0],\"title\":{\"text\":\"Frequency\"}},\"legend\":{\"title\":{\"text\":\"Word\"},\"tracegroupgap\":0},\"title\":{\"text\":\"Top 20 Most Common Words\"},\"barmode\":\"relative\"},                        {\"responsive\": true}                    ).then(function(){\n",
              "                            \n",
              "var gd = document.getElementById('dfd6c31e-833d-4c43-b41c-0a1a44f131cd');\n",
              "var x = new MutationObserver(function (mutations, observer) {{\n",
              "        var display = window.getComputedStyle(gd).display;\n",
              "        if (!display || display === 'none') {{\n",
              "            console.log([gd, 'removed!']);\n",
              "            Plotly.purge(gd);\n",
              "            observer.disconnect();\n",
              "        }}\n",
              "}});\n",
              "\n",
              "// Listen for the removal of the full notebook cells\n",
              "var notebookContainer = gd.closest('#notebook-container');\n",
              "if (notebookContainer) {{\n",
              "    x.observe(notebookContainer, {childList: true});\n",
              "}}\n",
              "\n",
              "// Listen for the clearing of the current output cell\n",
              "var outputEl = gd.closest('.output');\n",
              "if (outputEl) {{\n",
              "    x.observe(outputEl, {childList: true});\n",
              "}}\n",
              "\n",
              "                        })                };                            </script>        </div>\n",
              "</body>\n",
              "</html>"
            ]
          },
          "metadata": {}
        }
      ]
    },
    {
      "cell_type": "markdown",
      "source": [
        "### Algorithm Comparison (Autocomplete)"
      ],
      "metadata": {
        "id": "wqB23l0BWCsW"
      }
    },
    {
      "cell_type": "code",
      "source": [
        "# ALGORITHM 1: Frequency-Based Autocomplete (More Advanced)\n",
        "def get_autocomplete_suggestions_v1(prefix, word_counts, max_suggestions=5):\n",
        "    suggestions = [word for word in word_counts if word.startswith(prefix)]\n",
        "    sorted_suggestions = sorted(suggestions, key=lambda x: word_counts[x], reverse=True)\n",
        "    return sorted_suggestions[:max_suggestions]\n",
        "\n",
        "# ALGORITHM 2: Simple Alphabetical Autocomplete (Basic)\n",
        "def get_autocomplete_suggestions_v2(prefix, vocab, max_suggestions=5):\n",
        "    suggestions = [word for word in vocab if word.startswith(prefix)]\n",
        "    return sorted(suggestions)[:max_suggestions]\n",
        "\n",
        "test_prefix = \"adven\"\n",
        "suggestions_v1 = get_autocomplete_suggestions_v1(test_prefix, word_counts)\n",
        "suggestions_v2 = get_autocomplete_suggestions_v2(test_prefix, vocab)\n",
        "print(f\"Suggestions for '{test_prefix}' (Advanced - Frequency Based): {suggestions_v1}\")\n",
        "print(f\"Suggestions for '{test_prefix}' (Basic - Alphabetical): {suggestions_v2}\")\n",
        "\n"
      ],
      "metadata": {
        "colab": {
          "base_uri": "https://localhost:8080/"
        },
        "id": "Xm6rmd0zUvAv",
        "outputId": "8e539cf0-56f1-4a18-ed1a-f62b738ac994"
      },
      "execution_count": null,
      "outputs": [
        {
          "output_type": "stream",
          "name": "stdout",
          "text": [
            "Suggestions for 'adven' (Advanced - Frequency Based): ['adventure', 'adventures', 'adventuress']\n",
            "Suggestions for 'adven' (Basic - Alphabetical): ['adventure', 'adventures', 'adventuress']\n"
          ]
        }
      ]
    },
    {
      "cell_type": "markdown",
      "source": [
        "### Algorithm Comparison (Autocorrect)"
      ],
      "metadata": {
        "id": "uUOQLa9oV-uB"
      }
    },
    {
      "cell_type": "code",
      "source": [
        "# ALGORITHM 1: Edit Distance + Frequency (More Advanced)\n",
        "def get_autocorrect_suggestion_v1(word, word_counts, vocab):\n",
        "    if word in vocab: return word\n",
        "    def edits1(word):\n",
        "        letters    = 'abcdefghijklmnopqrstuvwxyz'\n",
        "        splits     = [(word[:i], word[i:])    for i in range(len(word) + 1)]\n",
        "        deletes    = [L + R[1:]               for L, R in splits if R]\n",
        "        transposes = [L + R[1] + R[0] + R[2:] for L, R in splits if len(R)>1]\n",
        "        replaces   = [L + c + R[1:]           for L, R in splits if R for c in letters]\n",
        "        inserts    = [L + c + R               for L, R in splits for c in letters]\n",
        "        return set(deletes + transposes + replaces + inserts)\n",
        "    def edits2(word): return (e2 for e1 in edits1(word) for e2 in edits1(e1))\n",
        "    def known(words): return set(w for w in words if w in vocab)\n",
        "    candidates = known(edits1(word)) or known(edits2(word)) or [word]\n",
        "    return max(candidates, key=word_counts.get)\n",
        "\n",
        "# ALGORITHM 2: Simple 1-Edit Distance (Basic)\n",
        "def get_autocorrect_suggestion_v2(word, vocab):\n",
        "    if word in vocab: return word\n",
        "    def edits1(word):\n",
        "        letters    = 'abcdefghijklmnopqrstuvwxyz'\n",
        "        splits     = [(word[:i], word[i:])    for i in range(len(word) + 1)]\n",
        "        deletes    = [L + R[1:]               for L, R in splits if R]\n",
        "        transposes = [L + R[1] + R[0] + R[2:] for L, R in splits if len(R)>1]\n",
        "        replaces   = [L + c + R[1:]           for L, R in splits if R for c in letters]\n",
        "        inserts    = [L + c + R               for L, R in splits for c in letters]\n",
        "        return set(deletes + transposes + replaces + inserts)\n",
        "    def known(words): return set(w for w in words if w in vocab)\n",
        "    candidates = known(edits1(word))\n",
        "    if candidates:\n",
        "        return list(candidates)[0] # Return the first found candidate\n",
        "    return word # Return original if no 1-edit correction is found\n",
        "\n",
        "test_word = \"wason\" # Misspelling of 'watson'\n",
        "correction_v1 = get_autocorrect_suggestion_v1(test_word, word_counts, vocab)\n",
        "correction_v2 = get_autocorrect_suggestion_v2(test_word, vocab)\n",
        "print(f\"Correction for '{test_word}' (Advanced): {correction_v1}\")\n",
        "print(f\"Correction for '{test_word}' (Basic): {correction_v2}\")\n"
      ],
      "metadata": {
        "colab": {
          "base_uri": "https://localhost:8080/"
        },
        "id": "X9PW8CGfUvLK",
        "outputId": "6053575b-e131-4c1d-da45-08b3113a6a8d"
      },
      "execution_count": null,
      "outputs": [
        {
          "output_type": "stream",
          "name": "stdout",
          "text": [
            "Correction for 'wason' (Advanced): watson\n",
            "Correction for 'wason' (Basic): watson\n"
          ]
        }
      ]
    },
    {
      "cell_type": "markdown",
      "source": [
        "### Metrics - Measuring Performance"
      ],
      "metadata": {
        "id": "COzm2jmgV6El"
      }
    },
    {
      "cell_type": "code",
      "source": [
        "# Create a sample test set of (misspelled, correct) pairs\n",
        "autocorrect_test_set = [\n",
        "    ('holms', 'holmes'),\n",
        "    ('wason', 'watson'),\n",
        "    ('advnture', 'adventure'),\n",
        "    ('ther', 'there'),\n",
        "    ('hapy', 'happy'),\n",
        "    ('mistery', 'mystery'),\n",
        "    ('wher', 'where')\n",
        "]\n",
        "\n",
        "def calculate_accuracy(test_data, correction_function, **kwargs):\n",
        "    correct_predictions = 0\n",
        "    for misspelled, correct in test_data:\n",
        "        prediction = correction_function(misspelled, **kwargs)\n",
        "        if prediction == correct:\n",
        "            correct_predictions += 1\n",
        "    return (correct_predictions / len(test_data)) * 100\n",
        "\n",
        "# Calculate accuracy for both algorithms\n",
        "accuracy_v1 = calculate_accuracy(autocorrect_test_set, get_autocorrect_suggestion_v1, word_counts=word_counts, vocab=vocab)\n",
        "accuracy_v2 = calculate_accuracy(autocorrect_test_set, get_autocorrect_suggestion_v2, vocab=vocab)\n",
        "\n",
        "print(f\"Accuracy of Advanced Autocorrect (v1): {accuracy_v1:.2f}%\")\n",
        "print(f\"Accuracy of Basic Autocorrect (v2): {accuracy_v2:.2f}%\")\n"
      ],
      "metadata": {
        "colab": {
          "base_uri": "https://localhost:8080/"
        },
        "id": "OsqA_JbCVKAp",
        "outputId": "67be2413-da31-4965-cb09-16dac8912332"
      },
      "execution_count": null,
      "outputs": [
        {
          "output_type": "stream",
          "name": "stdout",
          "text": [
            "Accuracy of Advanced Autocorrect (v1): 71.43%\n",
            "Accuracy of Basic Autocorrect (v2): 57.14%\n"
          ]
        }
      ]
    },
    {
      "cell_type": "markdown",
      "source": [
        "### Visualization of Metrics"
      ],
      "metadata": {
        "id": "Tk4IxDg9VmWy"
      }
    },
    {
      "cell_type": "code",
      "source": [
        "metrics_df = pd.DataFrame({\n",
        "    'Algorithm': ['Advanced (Edit Dist + Freq)', 'Basic (1-Edit Dist)'],\n",
        "    'Accuracy': [accuracy_v1, accuracy_v2]\n",
        "})\n",
        "\n",
        "fig_metrics = px.bar(metrics_df, x='Algorithm', y='Accuracy',\n",
        "                     title='Autocorrect Algorithm Accuracy Comparison',\n",
        "                     color='Algorithm',\n",
        "                     color_discrete_sequence=['#1f77b4', '#ff7f0e'],\n",
        "                     text_auto='.2f%')\n",
        "fig_metrics.update_layout(yaxis_title=\"Accuracy (%)\", yaxis_range=[0,100])\n",
        "fig_metrics.show()\n"
      ],
      "metadata": {
        "colab": {
          "base_uri": "https://localhost:8080/",
          "height": 542
        },
        "id": "kryRBVlpVKIO",
        "outputId": "e6354979-8d7c-4dc3-ddf7-10f7f10df770"
      },
      "execution_count": null,
      "outputs": [
        {
          "output_type": "display_data",
          "data": {
            "text/html": [
              "<html>\n",
              "<head><meta charset=\"utf-8\" /></head>\n",
              "<body>\n",
              "    <div>            <script src=\"https://cdnjs.cloudflare.com/ajax/libs/mathjax/2.7.5/MathJax.js?config=TeX-AMS-MML_SVG\"></script><script type=\"text/javascript\">if (window.MathJax && window.MathJax.Hub && window.MathJax.Hub.Config) {window.MathJax.Hub.Config({SVG: {font: \"STIX-Web\"}});}</script>                <script type=\"text/javascript\">window.PlotlyConfig = {MathJaxConfig: 'local'};</script>\n",
              "        <script charset=\"utf-8\" src=\"https://cdn.plot.ly/plotly-2.35.2.min.js\"></script>                <div id=\"c8afd74c-6b0b-44a8-910a-e6dd4679316d\" class=\"plotly-graph-div\" style=\"height:525px; width:100%;\"></div>            <script type=\"text/javascript\">                                    window.PLOTLYENV=window.PLOTLYENV || {};                                    if (document.getElementById(\"c8afd74c-6b0b-44a8-910a-e6dd4679316d\")) {                    Plotly.newPlot(                        \"c8afd74c-6b0b-44a8-910a-e6dd4679316d\",                        [{\"alignmentgroup\":\"True\",\"hovertemplate\":\"Algorithm=%{x}\\u003cbr\\u003eAccuracy=%{y}\\u003cextra\\u003e\\u003c\\u002fextra\\u003e\",\"legendgroup\":\"Advanced (Edit Dist + Freq)\",\"marker\":{\"color\":\"#1f77b4\",\"pattern\":{\"shape\":\"\"}},\"name\":\"Advanced (Edit Dist + Freq)\",\"offsetgroup\":\"Advanced (Edit Dist + Freq)\",\"orientation\":\"v\",\"showlegend\":true,\"textposition\":\"auto\",\"texttemplate\":\"%{y:.2f%}\",\"x\":[\"Advanced (Edit Dist + Freq)\"],\"xaxis\":\"x\",\"y\":[71.42857142857143],\"yaxis\":\"y\",\"type\":\"bar\"},{\"alignmentgroup\":\"True\",\"hovertemplate\":\"Algorithm=%{x}\\u003cbr\\u003eAccuracy=%{y}\\u003cextra\\u003e\\u003c\\u002fextra\\u003e\",\"legendgroup\":\"Basic (1-Edit Dist)\",\"marker\":{\"color\":\"#ff7f0e\",\"pattern\":{\"shape\":\"\"}},\"name\":\"Basic (1-Edit Dist)\",\"offsetgroup\":\"Basic (1-Edit Dist)\",\"orientation\":\"v\",\"showlegend\":true,\"textposition\":\"auto\",\"texttemplate\":\"%{y:.2f%}\",\"x\":[\"Basic (1-Edit Dist)\"],\"xaxis\":\"x\",\"y\":[57.14285714285714],\"yaxis\":\"y\",\"type\":\"bar\"}],                        {\"template\":{\"data\":{\"histogram2dcontour\":[{\"type\":\"histogram2dcontour\",\"colorbar\":{\"outlinewidth\":0,\"ticks\":\"\"},\"colorscale\":[[0.0,\"#0d0887\"],[0.1111111111111111,\"#46039f\"],[0.2222222222222222,\"#7201a8\"],[0.3333333333333333,\"#9c179e\"],[0.4444444444444444,\"#bd3786\"],[0.5555555555555556,\"#d8576b\"],[0.6666666666666666,\"#ed7953\"],[0.7777777777777778,\"#fb9f3a\"],[0.8888888888888888,\"#fdca26\"],[1.0,\"#f0f921\"]]}],\"choropleth\":[{\"type\":\"choropleth\",\"colorbar\":{\"outlinewidth\":0,\"ticks\":\"\"}}],\"histogram2d\":[{\"type\":\"histogram2d\",\"colorbar\":{\"outlinewidth\":0,\"ticks\":\"\"},\"colorscale\":[[0.0,\"#0d0887\"],[0.1111111111111111,\"#46039f\"],[0.2222222222222222,\"#7201a8\"],[0.3333333333333333,\"#9c179e\"],[0.4444444444444444,\"#bd3786\"],[0.5555555555555556,\"#d8576b\"],[0.6666666666666666,\"#ed7953\"],[0.7777777777777778,\"#fb9f3a\"],[0.8888888888888888,\"#fdca26\"],[1.0,\"#f0f921\"]]}],\"heatmap\":[{\"type\":\"heatmap\",\"colorbar\":{\"outlinewidth\":0,\"ticks\":\"\"},\"colorscale\":[[0.0,\"#0d0887\"],[0.1111111111111111,\"#46039f\"],[0.2222222222222222,\"#7201a8\"],[0.3333333333333333,\"#9c179e\"],[0.4444444444444444,\"#bd3786\"],[0.5555555555555556,\"#d8576b\"],[0.6666666666666666,\"#ed7953\"],[0.7777777777777778,\"#fb9f3a\"],[0.8888888888888888,\"#fdca26\"],[1.0,\"#f0f921\"]]}],\"heatmapgl\":[{\"type\":\"heatmapgl\",\"colorbar\":{\"outlinewidth\":0,\"ticks\":\"\"},\"colorscale\":[[0.0,\"#0d0887\"],[0.1111111111111111,\"#46039f\"],[0.2222222222222222,\"#7201a8\"],[0.3333333333333333,\"#9c179e\"],[0.4444444444444444,\"#bd3786\"],[0.5555555555555556,\"#d8576b\"],[0.6666666666666666,\"#ed7953\"],[0.7777777777777778,\"#fb9f3a\"],[0.8888888888888888,\"#fdca26\"],[1.0,\"#f0f921\"]]}],\"contourcarpet\":[{\"type\":\"contourcarpet\",\"colorbar\":{\"outlinewidth\":0,\"ticks\":\"\"}}],\"contour\":[{\"type\":\"contour\",\"colorbar\":{\"outlinewidth\":0,\"ticks\":\"\"},\"colorscale\":[[0.0,\"#0d0887\"],[0.1111111111111111,\"#46039f\"],[0.2222222222222222,\"#7201a8\"],[0.3333333333333333,\"#9c179e\"],[0.4444444444444444,\"#bd3786\"],[0.5555555555555556,\"#d8576b\"],[0.6666666666666666,\"#ed7953\"],[0.7777777777777778,\"#fb9f3a\"],[0.8888888888888888,\"#fdca26\"],[1.0,\"#f0f921\"]]}],\"surface\":[{\"type\":\"surface\",\"colorbar\":{\"outlinewidth\":0,\"ticks\":\"\"},\"colorscale\":[[0.0,\"#0d0887\"],[0.1111111111111111,\"#46039f\"],[0.2222222222222222,\"#7201a8\"],[0.3333333333333333,\"#9c179e\"],[0.4444444444444444,\"#bd3786\"],[0.5555555555555556,\"#d8576b\"],[0.6666666666666666,\"#ed7953\"],[0.7777777777777778,\"#fb9f3a\"],[0.8888888888888888,\"#fdca26\"],[1.0,\"#f0f921\"]]}],\"mesh3d\":[{\"type\":\"mesh3d\",\"colorbar\":{\"outlinewidth\":0,\"ticks\":\"\"}}],\"scatter\":[{\"fillpattern\":{\"fillmode\":\"overlay\",\"size\":10,\"solidity\":0.2},\"type\":\"scatter\"}],\"parcoords\":[{\"type\":\"parcoords\",\"line\":{\"colorbar\":{\"outlinewidth\":0,\"ticks\":\"\"}}}],\"scatterpolargl\":[{\"type\":\"scatterpolargl\",\"marker\":{\"colorbar\":{\"outlinewidth\":0,\"ticks\":\"\"}}}],\"bar\":[{\"error_x\":{\"color\":\"#2a3f5f\"},\"error_y\":{\"color\":\"#2a3f5f\"},\"marker\":{\"line\":{\"color\":\"#E5ECF6\",\"width\":0.5},\"pattern\":{\"fillmode\":\"overlay\",\"size\":10,\"solidity\":0.2}},\"type\":\"bar\"}],\"scattergeo\":[{\"type\":\"scattergeo\",\"marker\":{\"colorbar\":{\"outlinewidth\":0,\"ticks\":\"\"}}}],\"scatterpolar\":[{\"type\":\"scatterpolar\",\"marker\":{\"colorbar\":{\"outlinewidth\":0,\"ticks\":\"\"}}}],\"histogram\":[{\"marker\":{\"pattern\":{\"fillmode\":\"overlay\",\"size\":10,\"solidity\":0.2}},\"type\":\"histogram\"}],\"scattergl\":[{\"type\":\"scattergl\",\"marker\":{\"colorbar\":{\"outlinewidth\":0,\"ticks\":\"\"}}}],\"scatter3d\":[{\"type\":\"scatter3d\",\"line\":{\"colorbar\":{\"outlinewidth\":0,\"ticks\":\"\"}},\"marker\":{\"colorbar\":{\"outlinewidth\":0,\"ticks\":\"\"}}}],\"scattermapbox\":[{\"type\":\"scattermapbox\",\"marker\":{\"colorbar\":{\"outlinewidth\":0,\"ticks\":\"\"}}}],\"scatterternary\":[{\"type\":\"scatterternary\",\"marker\":{\"colorbar\":{\"outlinewidth\":0,\"ticks\":\"\"}}}],\"scattercarpet\":[{\"type\":\"scattercarpet\",\"marker\":{\"colorbar\":{\"outlinewidth\":0,\"ticks\":\"\"}}}],\"carpet\":[{\"aaxis\":{\"endlinecolor\":\"#2a3f5f\",\"gridcolor\":\"white\",\"linecolor\":\"white\",\"minorgridcolor\":\"white\",\"startlinecolor\":\"#2a3f5f\"},\"baxis\":{\"endlinecolor\":\"#2a3f5f\",\"gridcolor\":\"white\",\"linecolor\":\"white\",\"minorgridcolor\":\"white\",\"startlinecolor\":\"#2a3f5f\"},\"type\":\"carpet\"}],\"table\":[{\"cells\":{\"fill\":{\"color\":\"#EBF0F8\"},\"line\":{\"color\":\"white\"}},\"header\":{\"fill\":{\"color\":\"#C8D4E3\"},\"line\":{\"color\":\"white\"}},\"type\":\"table\"}],\"barpolar\":[{\"marker\":{\"line\":{\"color\":\"#E5ECF6\",\"width\":0.5},\"pattern\":{\"fillmode\":\"overlay\",\"size\":10,\"solidity\":0.2}},\"type\":\"barpolar\"}],\"pie\":[{\"automargin\":true,\"type\":\"pie\"}]},\"layout\":{\"autotypenumbers\":\"strict\",\"colorway\":[\"#636efa\",\"#EF553B\",\"#00cc96\",\"#ab63fa\",\"#FFA15A\",\"#19d3f3\",\"#FF6692\",\"#B6E880\",\"#FF97FF\",\"#FECB52\"],\"font\":{\"color\":\"#2a3f5f\"},\"hovermode\":\"closest\",\"hoverlabel\":{\"align\":\"left\"},\"paper_bgcolor\":\"white\",\"plot_bgcolor\":\"#E5ECF6\",\"polar\":{\"bgcolor\":\"#E5ECF6\",\"angularaxis\":{\"gridcolor\":\"white\",\"linecolor\":\"white\",\"ticks\":\"\"},\"radialaxis\":{\"gridcolor\":\"white\",\"linecolor\":\"white\",\"ticks\":\"\"}},\"ternary\":{\"bgcolor\":\"#E5ECF6\",\"aaxis\":{\"gridcolor\":\"white\",\"linecolor\":\"white\",\"ticks\":\"\"},\"baxis\":{\"gridcolor\":\"white\",\"linecolor\":\"white\",\"ticks\":\"\"},\"caxis\":{\"gridcolor\":\"white\",\"linecolor\":\"white\",\"ticks\":\"\"}},\"coloraxis\":{\"colorbar\":{\"outlinewidth\":0,\"ticks\":\"\"}},\"colorscale\":{\"sequential\":[[0.0,\"#0d0887\"],[0.1111111111111111,\"#46039f\"],[0.2222222222222222,\"#7201a8\"],[0.3333333333333333,\"#9c179e\"],[0.4444444444444444,\"#bd3786\"],[0.5555555555555556,\"#d8576b\"],[0.6666666666666666,\"#ed7953\"],[0.7777777777777778,\"#fb9f3a\"],[0.8888888888888888,\"#fdca26\"],[1.0,\"#f0f921\"]],\"sequentialminus\":[[0.0,\"#0d0887\"],[0.1111111111111111,\"#46039f\"],[0.2222222222222222,\"#7201a8\"],[0.3333333333333333,\"#9c179e\"],[0.4444444444444444,\"#bd3786\"],[0.5555555555555556,\"#d8576b\"],[0.6666666666666666,\"#ed7953\"],[0.7777777777777778,\"#fb9f3a\"],[0.8888888888888888,\"#fdca26\"],[1.0,\"#f0f921\"]],\"diverging\":[[0,\"#8e0152\"],[0.1,\"#c51b7d\"],[0.2,\"#de77ae\"],[0.3,\"#f1b6da\"],[0.4,\"#fde0ef\"],[0.5,\"#f7f7f7\"],[0.6,\"#e6f5d0\"],[0.7,\"#b8e186\"],[0.8,\"#7fbc41\"],[0.9,\"#4d9221\"],[1,\"#276419\"]]},\"xaxis\":{\"gridcolor\":\"white\",\"linecolor\":\"white\",\"ticks\":\"\",\"title\":{\"standoff\":15},\"zerolinecolor\":\"white\",\"automargin\":true,\"zerolinewidth\":2},\"yaxis\":{\"gridcolor\":\"white\",\"linecolor\":\"white\",\"ticks\":\"\",\"title\":{\"standoff\":15},\"zerolinecolor\":\"white\",\"automargin\":true,\"zerolinewidth\":2},\"scene\":{\"xaxis\":{\"backgroundcolor\":\"#E5ECF6\",\"gridcolor\":\"white\",\"linecolor\":\"white\",\"showbackground\":true,\"ticks\":\"\",\"zerolinecolor\":\"white\",\"gridwidth\":2},\"yaxis\":{\"backgroundcolor\":\"#E5ECF6\",\"gridcolor\":\"white\",\"linecolor\":\"white\",\"showbackground\":true,\"ticks\":\"\",\"zerolinecolor\":\"white\",\"gridwidth\":2},\"zaxis\":{\"backgroundcolor\":\"#E5ECF6\",\"gridcolor\":\"white\",\"linecolor\":\"white\",\"showbackground\":true,\"ticks\":\"\",\"zerolinecolor\":\"white\",\"gridwidth\":2}},\"shapedefaults\":{\"line\":{\"color\":\"#2a3f5f\"}},\"annotationdefaults\":{\"arrowcolor\":\"#2a3f5f\",\"arrowhead\":0,\"arrowwidth\":1},\"geo\":{\"bgcolor\":\"white\",\"landcolor\":\"#E5ECF6\",\"subunitcolor\":\"white\",\"showland\":true,\"showlakes\":true,\"lakecolor\":\"white\"},\"title\":{\"x\":0.05},\"mapbox\":{\"style\":\"light\"}}},\"xaxis\":{\"anchor\":\"y\",\"domain\":[0.0,1.0],\"title\":{\"text\":\"Algorithm\"},\"categoryorder\":\"array\",\"categoryarray\":[\"Advanced (Edit Dist + Freq)\",\"Basic (1-Edit Dist)\"]},\"yaxis\":{\"anchor\":\"x\",\"domain\":[0.0,1.0],\"title\":{\"text\":\"Accuracy (%)\"},\"range\":[0,100]},\"legend\":{\"title\":{\"text\":\"Algorithm\"},\"tracegroupgap\":0},\"title\":{\"text\":\"Autocorrect Algorithm Accuracy Comparison\"},\"barmode\":\"relative\"},                        {\"responsive\": true}                    ).then(function(){\n",
              "                            \n",
              "var gd = document.getElementById('c8afd74c-6b0b-44a8-910a-e6dd4679316d');\n",
              "var x = new MutationObserver(function (mutations, observer) {{\n",
              "        var display = window.getComputedStyle(gd).display;\n",
              "        if (!display || display === 'none') {{\n",
              "            console.log([gd, 'removed!']);\n",
              "            Plotly.purge(gd);\n",
              "            observer.disconnect();\n",
              "        }}\n",
              "}});\n",
              "\n",
              "// Listen for the removal of the full notebook cells\n",
              "var notebookContainer = gd.closest('#notebook-container');\n",
              "if (notebookContainer) {{\n",
              "    x.observe(notebookContainer, {childList: true});\n",
              "}}\n",
              "\n",
              "// Listen for the clearing of the current output cell\n",
              "var outputEl = gd.closest('.output');\n",
              "if (outputEl) {{\n",
              "    x.observe(outputEl, {childList: true});\n",
              "}}\n",
              "\n",
              "                        })                };                            </script>        </div>\n",
              "</body>\n",
              "</html>"
            ]
          },
          "metadata": {}
        }
      ]
    },
    {
      "cell_type": "markdown",
      "source": [
        "### Interactive User Experience Simulation"
      ],
      "metadata": {
        "id": "3Ld2sB7PVgHZ"
      }
    },
    {
      "cell_type": "code",
      "source": [
        "# Convert Python functions to be callable from Javascript\n",
        "from google.colab import output\n",
        "\n",
        "def get_suggestions_js(prefix):\n",
        "  v1_suggs = get_autocomplete_suggestions_v1(prefix, word_counts)\n",
        "  v2_suggs = get_autocomplete_suggestions_v2(prefix, vocab)\n",
        "  # Return data as a JSON string\n",
        "  return json.dumps({'v1': v1_suggs, 'v2': v2_suggs})\n",
        "\n",
        "def get_correction_js(word):\n",
        "  v1_corr = get_autocorrect_suggestion_v1(word, word_counts, vocab)\n",
        "  v2_corr = get_autocorrect_suggestion_v2(word, vocab)\n",
        "  # Return data as a JSON string\n",
        "  return json.dumps({'v1': v1_corr, 'v2': v2_corr})\n",
        "\n",
        "output.register_callback('get_suggestions_js', get_suggestions_js)\n",
        "output.register_callback('get_correction_js', get_correction_js)\n",
        "\n",
        "html_code = \"\"\"\n",
        "<div style=\"font-family: sans-serif; padding: 20px; border: 1px solid #ccc; border-radius: 10px; background-color: #f9f9f9;\">\n",
        "    <h2 style=\"text-align: center; color: #333;\">Test the Algorithms</h2>\n",
        "\n",
        "    <!-- Autocomplete Section -->\n",
        "    <div style=\"margin-bottom: 25px;\">\n",
        "        <h3 style=\"color: #444;\">Autocomplete Test</h3>\n",
        "        <p style=\"font-size: 14px; color: #666;\">Type a prefix (e.g., 'adven') and see the suggestions from both algorithms.</p>\n",
        "        <input type=\"text\" id=\"autocomplete-input\" placeholder=\"Type a prefix...\" style=\"width: 70%; padding: 8px; border-radius: 5px; border: 1px solid #ccc;\">\n",
        "        <button onclick=\"handleAutocomplete()\" style=\"padding: 8px 12px; border-radius: 5px; border: none; background-color: #1f77b4; color: white; cursor: pointer;\">Get Suggestions</button>\n",
        "        <div style=\"margin-top: 10px;\">\n",
        "            <p><strong>Advanced (Frequency):</strong> <span id=\"autocomplete-v1-results\" style=\"font-family: monospace; color: #1f77b4;\"></span></p>\n",
        "            <p><strong>Basic (Alphabetical):</strong> <span id=\"autocomplete-v2-results\" style=\"font-family: monospace; color: #ff7f0e;\"></span></p>\n",
        "        </div>\n",
        "    </div>\n",
        "\n",
        "    <!-- Autocorrect Section -->\n",
        "    <div>\n",
        "        <h3 style=\"color: #444;\">Autocorrect Test</h3>\n",
        "        <p style=\"font-size: 14px; color: #666;\">Type a misspelled word (e.g., 'wason') and see the corrections.</p>\n",
        "        <input type=\"text\" id=\"autocorrect-input\" placeholder=\"Type a misspelled word...\" style=\"width: 70%; padding: 8px; border-radius: 5px; border: 1px solid #ccc;\">\n",
        "        <button onclick=\"handleAutocorrect()\" style=\"padding: 8px 12px; border-radius: 5px; border: none; background-color: #2ca02c; color: white; cursor: pointer;\">Get Correction</button>\n",
        "        <div style=\"margin-top: 10px;\">\n",
        "            <p><strong>Advanced (Edit Dist + Freq):</strong> <span id=\"autocorrect-v1-results\" style=\"font-family: monospace; color: #2ca02c;\"></span></p>\n",
        "            <p><strong>Basic (1-Edit Dist):</strong> <span id=\"autocorrect-v2-results\" style=\"font-family: monospace; color: #d62728;\"></span></p>\n",
        "        </div>\n",
        "    </div>\n",
        "</div>\n",
        "\n",
        "\n",
        "<script>\n",
        "  function handleAutocomplete() {\n",
        "    const prefix = document.getElementById('autocomplete-input').value;\n",
        "    google.colab.kernel.invokeFunction('get_suggestions_js', [prefix], {})\n",
        "      .then(result => {\n",
        "        // The result from Python is a JSON string in result.data['text/plain']\n",
        "        const data = JSON.parse(result.data['text/plain'].slice(1, -1)); // slice to remove quotes\n",
        "        document.getElementById('autocomplete-v1-results').innerText = 'Suggestions: ' + JSON.stringify(data.v1);\n",
        "        document.getElementById('autocomplete-v2-results').innerText = 'Suggestions: ' + JSON.stringify(data.v2);\n",
        "      })\n",
        "      .catch(error => console.error(error));\n",
        "  }\n",
        "\n",
        "  function handleAutocorrect() {\n",
        "    const word = document.getElementById('autocorrect-input').value;\n",
        "    google.colab.kernel.invokeFunction('get_correction_js', [word], {})\n",
        "      .then(result => {\n",
        "        const data = JSON.parse(result.data['text/plain'].slice(1, -1));\n",
        "        document.getElementById('autocorrect-v1-results').innerText = 'Correction: ' + data.v1;\n",
        "        document.getElementById('autocorrect-v2-results').innerText = 'Correction: ' + data.v2;\n",
        "      })\n",
        "      .catch(error => console.error(error));\n",
        "  }\n",
        "</script>\n",
        "\"\"\"\n",
        "display(HTML(html_code))"
      ],
      "metadata": {
        "colab": {
          "base_uri": "https://localhost:8080/",
          "height": 417
        },
        "id": "fWCgIqNqVRVa",
        "outputId": "37cf52e5-a746-4bda-ef58-5c7e41a500fc"
      },
      "execution_count": null,
      "outputs": [
        {
          "output_type": "display_data",
          "data": {
            "text/plain": [
              "<IPython.core.display.HTML object>"
            ],
            "text/html": [
              "\n",
              "<div style=\"font-family: sans-serif; padding: 20px; border: 1px solid #ccc; border-radius: 10px; background-color: #f9f9f9;\">\n",
              "    <h2 style=\"text-align: center; color: #333;\">Test the Algorithms</h2>\n",
              "\n",
              "    <!-- Autocomplete Section -->\n",
              "    <div style=\"margin-bottom: 25px;\">\n",
              "        <h3 style=\"color: #444;\">Autocomplete Test</h3>\n",
              "        <p style=\"font-size: 14px; color: #666;\">Type a prefix (e.g., 'adven') and see the suggestions from both algorithms.</p>\n",
              "        <input type=\"text\" id=\"autocomplete-input\" placeholder=\"Type a prefix...\" style=\"width: 70%; padding: 8px; border-radius: 5px; border: 1px solid #ccc;\">\n",
              "        <button onclick=\"handleAutocomplete()\" style=\"padding: 8px 12px; border-radius: 5px; border: none; background-color: #1f77b4; color: white; cursor: pointer;\">Get Suggestions</button>\n",
              "        <div style=\"margin-top: 10px;\">\n",
              "            <p><strong>Advanced (Frequency):</strong> <span id=\"autocomplete-v1-results\" style=\"font-family: monospace; color: #1f77b4;\"></span></p>\n",
              "            <p><strong>Basic (Alphabetical):</strong> <span id=\"autocomplete-v2-results\" style=\"font-family: monospace; color: #ff7f0e;\"></span></p>\n",
              "        </div>\n",
              "    </div>\n",
              "\n",
              "    <!-- Autocorrect Section -->\n",
              "    <div>\n",
              "        <h3 style=\"color: #444;\">Autocorrect Test</h3>\n",
              "        <p style=\"font-size: 14px; color: #666;\">Type a misspelled word (e.g., 'wason') and see the corrections.</p>\n",
              "        <input type=\"text\" id=\"autocorrect-input\" placeholder=\"Type a misspelled word...\" style=\"width: 70%; padding: 8px; border-radius: 5px; border: 1px solid #ccc;\">\n",
              "        <button onclick=\"handleAutocorrect()\" style=\"padding: 8px 12px; border-radius: 5px; border: none; background-color: #2ca02c; color: white; cursor: pointer;\">Get Correction</button>\n",
              "        <div style=\"margin-top: 10px;\">\n",
              "            <p><strong>Advanced (Edit Dist + Freq):</strong> <span id=\"autocorrect-v1-results\" style=\"font-family: monospace; color: #2ca02c;\"></span></p>\n",
              "            <p><strong>Basic (1-Edit Dist):</strong> <span id=\"autocorrect-v2-results\" style=\"font-family: monospace; color: #d62728;\"></span></p>\n",
              "        </div>\n",
              "    </div>\n",
              "</div>\n",
              "\n",
              "\n",
              "<script>\n",
              "  function handleAutocomplete() {\n",
              "    const prefix = document.getElementById('autocomplete-input').value;\n",
              "    google.colab.kernel.invokeFunction('get_suggestions_js', [prefix], {})\n",
              "      .then(result => {\n",
              "        // The result from Python is a JSON string in result.data['text/plain']\n",
              "        const data = JSON.parse(result.data['text/plain'].slice(1, -1)); // slice to remove quotes\n",
              "        document.getElementById('autocomplete-v1-results').innerText = 'Suggestions: ' + JSON.stringify(data.v1);\n",
              "        document.getElementById('autocomplete-v2-results').innerText = 'Suggestions: ' + JSON.stringify(data.v2);\n",
              "      })\n",
              "      .catch(error => console.error(error));\n",
              "  }\n",
              "\n",
              "  function handleAutocorrect() {\n",
              "    const word = document.getElementById('autocorrect-input').value;\n",
              "    google.colab.kernel.invokeFunction('get_correction_js', [word], {})\n",
              "      .then(result => {\n",
              "        const data = JSON.parse(result.data['text/plain'].slice(1, -1));\n",
              "        document.getElementById('autocorrect-v1-results').innerText = 'Correction: ' + data.v1;\n",
              "        document.getElementById('autocorrect-v2-results').innerText = 'Correction: ' + data.v2;\n",
              "      })\n",
              "      .catch(error => console.error(error));\n",
              "  }\n",
              "</script>\n"
            ]
          },
          "metadata": {}
        }
      ]
    }
  ],
  "metadata": {
    "colab": {
      "provenance": []
    },
    "kernelspec": {
      "display_name": "Python 3",
      "name": "python3"
    }
  },
  "nbformat": 4,
  "nbformat_minor": 0
}